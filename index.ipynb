{
 "cells": [
  {
   "cell_type": "code",
   "execution_count": 2,
   "id": "5ca932b6-f8b0-498f-a9b7-4fb6b9d6ba3a",
   "metadata": {},
   "outputs": [],
   "source": [
    "get_ipython().system('pip install Chefboost')\n",
    "from chefboost import Chefboost as chef\n",
    "import pandas as pd\n",
    "df = pd.read_csv(\"data_set.txt\")\n",
    "df.head()\n",
    "config = {\"algorithm\" : 'ID3'}\n",
    "model = chef.fit(df, config)\n",
    "chef.predict(model, ['Sunny',\t'Hot',\t'High',\t'Weak'])\n",
    "for index, instance in df.iterrows():\n",
    "  prediction = chef.predict(model, instance)\n",
    "  actual = instance['Decision']\n",
    "  print(prediction, \"vs\", actual)"
   ]
  }
 ],
 "metadata": {
  "interpreter": {
   "hash": "d9c3e9dcce40bce8f3dd857ff659deded45e0fdc3f5516694166dc040abd4006"
  },
  "kernelspec": {
   "display_name": "Python 3.10.0 64-bit",
   "name": "python3"
  },
  "language_info": {
   "codemirror_mode": {
    "name": "ipython",
    "version": 3
   },
   "file_extension": ".py",
   "mimetype": "text/x-python",
   "name": "python",
   "nbconvert_exporter": "python",
   "pygments_lexer": "ipython3",
   "version": "3.10.0"
  }
 },
 "nbformat": 4,
 "nbformat_minor": 5
}
